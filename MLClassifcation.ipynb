{
  "cells": [
    {
      "cell_type": "markdown",
      "metadata": {
        "id": "view-in-github",
        "colab_type": "text"
      },
      "source": [
        "<a href=\"https://colab.research.google.com/github/faress-136/ML-Classification/blob/main/MLClassifcation.ipynb\" target=\"_parent\"><img src=\"https://colab.research.google.com/assets/colab-badge.svg\" alt=\"Open In Colab\"/></a>"
      ]
    },
    {
      "cell_type": "code",
      "execution_count": 5,
      "metadata": {
        "id": "xURsFx5gyMy_"
      },
      "outputs": [],
      "source": [
        "import numpy as np\n",
        "import pandas as pd\n",
        "import seaborn as sb\n",
        "from sklearn.model_selection import train_test_split\n",
        "from imblearn.datasets import make_imbalance\n",
        "from imblearn.over_sampling import SMOTE, ADASYN\n",
        "from sklearn.tree import DecisionTreeClassifier\n",
        "from sklearn.metrics import confusion_matrix, accuracy_score, classification_report\n",
        "from sklearn.ensemble import AdaBoostClassifier\n",
        "from sklearn import metrics\n",
        "from sklearn import ensemble\n",
        "from sklearn.neighbors import KNeighborsClassifier\n",
        "from sklearn.naive_bayes import GaussianNB\n",
        "from sklearn.model_selection import KFold\n",
        "from matplotlib import pyplot"
      ]
    },
    {
      "cell_type": "markdown",
      "metadata": {
        "id": "ARu1mRSMznFt"
      },
      "source": [
        "### File Read"
      ]
    },
    {
      "cell_type": "code",
      "execution_count": 7,
      "metadata": {
        "colab": {
          "base_uri": "https://localhost:8080/",
          "height": 483
        },
        "id": "Xjka2lXAzWKz",
        "outputId": "a9ddca64-1ef9-459d-dc6f-1162aedbdfd3"
      },
      "outputs": [
        {
          "output_type": "execute_result",
          "data": {
            "text/plain": [
              "             0         1       2       3       4         5         6   \\\n",
              "0       28.7967   16.0021  2.6449  0.3918  0.1982   27.7004   22.0110   \n",
              "1       31.6036   11.7235  2.5185  0.5303  0.3773   26.2722   23.8238   \n",
              "2      162.0520  136.0310  4.0612  0.0374  0.0187  116.7410  -64.8580   \n",
              "3       23.8172    9.5728  2.3385  0.6147  0.3922   27.2107   -6.4633   \n",
              "4       75.1362   30.9205  3.1611  0.3168  0.1832   -5.5277   28.5525   \n",
              "...         ...       ...     ...     ...     ...       ...       ...   \n",
              "19015   21.3846   10.9170  2.6161  0.5857  0.3934   15.2618   11.5245   \n",
              "19016   28.9452    6.7020  2.2672  0.5351  0.2784   37.0816   13.1853   \n",
              "19017   75.4455   47.5305  3.4483  0.1417  0.0549   -9.3561   41.0562   \n",
              "19018  120.5135   76.9018  3.9939  0.0944  0.0683    5.8043  -93.5224   \n",
              "19019  187.1814   53.0014  3.2093  0.2876  0.1539 -167.3125 -168.4558   \n",
              "\n",
              "            7        8         9  10  \n",
              "0      -8.2027  40.0920   81.8828  g  \n",
              "1      -9.9574   6.3609  205.2610  g  \n",
              "2     -45.2160  76.9600  256.7880  g  \n",
              "3      -7.1513  10.4490  116.7370  g  \n",
              "4      21.8393   4.6480  356.4620  g  \n",
              "...        ...      ...       ... ..  \n",
              "19015   2.8766   2.4229  106.8258  h  \n",
              "19016  -2.9632  86.7975  247.4560  h  \n",
              "19017  -9.4662  30.2987  256.5166  h  \n",
              "19018 -63.8389  84.6874  408.3166  h  \n",
              "19019  31.4755  52.7310  272.3174  h  \n",
              "\n",
              "[19020 rows x 11 columns]"
            ],
            "text/html": [
              "\n",
              "  <div id=\"df-97f759fe-01f8-4923-82d3-381052fbe098\">\n",
              "    <div class=\"colab-df-container\">\n",
              "      <div>\n",
              "<style scoped>\n",
              "    .dataframe tbody tr th:only-of-type {\n",
              "        vertical-align: middle;\n",
              "    }\n",
              "\n",
              "    .dataframe tbody tr th {\n",
              "        vertical-align: top;\n",
              "    }\n",
              "\n",
              "    .dataframe thead th {\n",
              "        text-align: right;\n",
              "    }\n",
              "</style>\n",
              "<table border=\"1\" class=\"dataframe\">\n",
              "  <thead>\n",
              "    <tr style=\"text-align: right;\">\n",
              "      <th></th>\n",
              "      <th>0</th>\n",
              "      <th>1</th>\n",
              "      <th>2</th>\n",
              "      <th>3</th>\n",
              "      <th>4</th>\n",
              "      <th>5</th>\n",
              "      <th>6</th>\n",
              "      <th>7</th>\n",
              "      <th>8</th>\n",
              "      <th>9</th>\n",
              "      <th>10</th>\n",
              "    </tr>\n",
              "  </thead>\n",
              "  <tbody>\n",
              "    <tr>\n",
              "      <th>0</th>\n",
              "      <td>28.7967</td>\n",
              "      <td>16.0021</td>\n",
              "      <td>2.6449</td>\n",
              "      <td>0.3918</td>\n",
              "      <td>0.1982</td>\n",
              "      <td>27.7004</td>\n",
              "      <td>22.0110</td>\n",
              "      <td>-8.2027</td>\n",
              "      <td>40.0920</td>\n",
              "      <td>81.8828</td>\n",
              "      <td>g</td>\n",
              "    </tr>\n",
              "    <tr>\n",
              "      <th>1</th>\n",
              "      <td>31.6036</td>\n",
              "      <td>11.7235</td>\n",
              "      <td>2.5185</td>\n",
              "      <td>0.5303</td>\n",
              "      <td>0.3773</td>\n",
              "      <td>26.2722</td>\n",
              "      <td>23.8238</td>\n",
              "      <td>-9.9574</td>\n",
              "      <td>6.3609</td>\n",
              "      <td>205.2610</td>\n",
              "      <td>g</td>\n",
              "    </tr>\n",
              "    <tr>\n",
              "      <th>2</th>\n",
              "      <td>162.0520</td>\n",
              "      <td>136.0310</td>\n",
              "      <td>4.0612</td>\n",
              "      <td>0.0374</td>\n",
              "      <td>0.0187</td>\n",
              "      <td>116.7410</td>\n",
              "      <td>-64.8580</td>\n",
              "      <td>-45.2160</td>\n",
              "      <td>76.9600</td>\n",
              "      <td>256.7880</td>\n",
              "      <td>g</td>\n",
              "    </tr>\n",
              "    <tr>\n",
              "      <th>3</th>\n",
              "      <td>23.8172</td>\n",
              "      <td>9.5728</td>\n",
              "      <td>2.3385</td>\n",
              "      <td>0.6147</td>\n",
              "      <td>0.3922</td>\n",
              "      <td>27.2107</td>\n",
              "      <td>-6.4633</td>\n",
              "      <td>-7.1513</td>\n",
              "      <td>10.4490</td>\n",
              "      <td>116.7370</td>\n",
              "      <td>g</td>\n",
              "    </tr>\n",
              "    <tr>\n",
              "      <th>4</th>\n",
              "      <td>75.1362</td>\n",
              "      <td>30.9205</td>\n",
              "      <td>3.1611</td>\n",
              "      <td>0.3168</td>\n",
              "      <td>0.1832</td>\n",
              "      <td>-5.5277</td>\n",
              "      <td>28.5525</td>\n",
              "      <td>21.8393</td>\n",
              "      <td>4.6480</td>\n",
              "      <td>356.4620</td>\n",
              "      <td>g</td>\n",
              "    </tr>\n",
              "    <tr>\n",
              "      <th>...</th>\n",
              "      <td>...</td>\n",
              "      <td>...</td>\n",
              "      <td>...</td>\n",
              "      <td>...</td>\n",
              "      <td>...</td>\n",
              "      <td>...</td>\n",
              "      <td>...</td>\n",
              "      <td>...</td>\n",
              "      <td>...</td>\n",
              "      <td>...</td>\n",
              "      <td>...</td>\n",
              "    </tr>\n",
              "    <tr>\n",
              "      <th>19015</th>\n",
              "      <td>21.3846</td>\n",
              "      <td>10.9170</td>\n",
              "      <td>2.6161</td>\n",
              "      <td>0.5857</td>\n",
              "      <td>0.3934</td>\n",
              "      <td>15.2618</td>\n",
              "      <td>11.5245</td>\n",
              "      <td>2.8766</td>\n",
              "      <td>2.4229</td>\n",
              "      <td>106.8258</td>\n",
              "      <td>h</td>\n",
              "    </tr>\n",
              "    <tr>\n",
              "      <th>19016</th>\n",
              "      <td>28.9452</td>\n",
              "      <td>6.7020</td>\n",
              "      <td>2.2672</td>\n",
              "      <td>0.5351</td>\n",
              "      <td>0.2784</td>\n",
              "      <td>37.0816</td>\n",
              "      <td>13.1853</td>\n",
              "      <td>-2.9632</td>\n",
              "      <td>86.7975</td>\n",
              "      <td>247.4560</td>\n",
              "      <td>h</td>\n",
              "    </tr>\n",
              "    <tr>\n",
              "      <th>19017</th>\n",
              "      <td>75.4455</td>\n",
              "      <td>47.5305</td>\n",
              "      <td>3.4483</td>\n",
              "      <td>0.1417</td>\n",
              "      <td>0.0549</td>\n",
              "      <td>-9.3561</td>\n",
              "      <td>41.0562</td>\n",
              "      <td>-9.4662</td>\n",
              "      <td>30.2987</td>\n",
              "      <td>256.5166</td>\n",
              "      <td>h</td>\n",
              "    </tr>\n",
              "    <tr>\n",
              "      <th>19018</th>\n",
              "      <td>120.5135</td>\n",
              "      <td>76.9018</td>\n",
              "      <td>3.9939</td>\n",
              "      <td>0.0944</td>\n",
              "      <td>0.0683</td>\n",
              "      <td>5.8043</td>\n",
              "      <td>-93.5224</td>\n",
              "      <td>-63.8389</td>\n",
              "      <td>84.6874</td>\n",
              "      <td>408.3166</td>\n",
              "      <td>h</td>\n",
              "    </tr>\n",
              "    <tr>\n",
              "      <th>19019</th>\n",
              "      <td>187.1814</td>\n",
              "      <td>53.0014</td>\n",
              "      <td>3.2093</td>\n",
              "      <td>0.2876</td>\n",
              "      <td>0.1539</td>\n",
              "      <td>-167.3125</td>\n",
              "      <td>-168.4558</td>\n",
              "      <td>31.4755</td>\n",
              "      <td>52.7310</td>\n",
              "      <td>272.3174</td>\n",
              "      <td>h</td>\n",
              "    </tr>\n",
              "  </tbody>\n",
              "</table>\n",
              "<p>19020 rows × 11 columns</p>\n",
              "</div>\n",
              "      <button class=\"colab-df-convert\" onclick=\"convertToInteractive('df-97f759fe-01f8-4923-82d3-381052fbe098')\"\n",
              "              title=\"Convert this dataframe to an interactive table.\"\n",
              "              style=\"display:none;\">\n",
              "        \n",
              "  <svg xmlns=\"http://www.w3.org/2000/svg\" height=\"24px\"viewBox=\"0 0 24 24\"\n",
              "       width=\"24px\">\n",
              "    <path d=\"M0 0h24v24H0V0z\" fill=\"none\"/>\n",
              "    <path d=\"M18.56 5.44l.94 2.06.94-2.06 2.06-.94-2.06-.94-.94-2.06-.94 2.06-2.06.94zm-11 1L8.5 8.5l.94-2.06 2.06-.94-2.06-.94L8.5 2.5l-.94 2.06-2.06.94zm10 10l.94 2.06.94-2.06 2.06-.94-2.06-.94-.94-2.06-.94 2.06-2.06.94z\"/><path d=\"M17.41 7.96l-1.37-1.37c-.4-.4-.92-.59-1.43-.59-.52 0-1.04.2-1.43.59L10.3 9.45l-7.72 7.72c-.78.78-.78 2.05 0 2.83L4 21.41c.39.39.9.59 1.41.59.51 0 1.02-.2 1.41-.59l7.78-7.78 2.81-2.81c.8-.78.8-2.07 0-2.86zM5.41 20L4 18.59l7.72-7.72 1.47 1.35L5.41 20z\"/>\n",
              "  </svg>\n",
              "      </button>\n",
              "      \n",
              "  <style>\n",
              "    .colab-df-container {\n",
              "      display:flex;\n",
              "      flex-wrap:wrap;\n",
              "      gap: 12px;\n",
              "    }\n",
              "\n",
              "    .colab-df-convert {\n",
              "      background-color: #E8F0FE;\n",
              "      border: none;\n",
              "      border-radius: 50%;\n",
              "      cursor: pointer;\n",
              "      display: none;\n",
              "      fill: #1967D2;\n",
              "      height: 32px;\n",
              "      padding: 0 0 0 0;\n",
              "      width: 32px;\n",
              "    }\n",
              "\n",
              "    .colab-df-convert:hover {\n",
              "      background-color: #E2EBFA;\n",
              "      box-shadow: 0px 1px 2px rgba(60, 64, 67, 0.3), 0px 1px 3px 1px rgba(60, 64, 67, 0.15);\n",
              "      fill: #174EA6;\n",
              "    }\n",
              "\n",
              "    [theme=dark] .colab-df-convert {\n",
              "      background-color: #3B4455;\n",
              "      fill: #D2E3FC;\n",
              "    }\n",
              "\n",
              "    [theme=dark] .colab-df-convert:hover {\n",
              "      background-color: #434B5C;\n",
              "      box-shadow: 0px 1px 3px 1px rgba(0, 0, 0, 0.15);\n",
              "      filter: drop-shadow(0px 1px 2px rgba(0, 0, 0, 0.3));\n",
              "      fill: #FFFFFF;\n",
              "    }\n",
              "  </style>\n",
              "\n",
              "      <script>\n",
              "        const buttonEl =\n",
              "          document.querySelector('#df-97f759fe-01f8-4923-82d3-381052fbe098 button.colab-df-convert');\n",
              "        buttonEl.style.display =\n",
              "          google.colab.kernel.accessAllowed ? 'block' : 'none';\n",
              "\n",
              "        async function convertToInteractive(key) {\n",
              "          const element = document.querySelector('#df-97f759fe-01f8-4923-82d3-381052fbe098');\n",
              "          const dataTable =\n",
              "            await google.colab.kernel.invokeFunction('convertToInteractive',\n",
              "                                                     [key], {});\n",
              "          if (!dataTable) return;\n",
              "\n",
              "          const docLinkHtml = 'Like what you see? Visit the ' +\n",
              "            '<a target=\"_blank\" href=https://colab.research.google.com/notebooks/data_table.ipynb>data table notebook</a>'\n",
              "            + ' to learn more about interactive tables.';\n",
              "          element.innerHTML = '';\n",
              "          dataTable['output_type'] = 'display_data';\n",
              "          await google.colab.output.renderOutput(dataTable, element);\n",
              "          const docLink = document.createElement('div');\n",
              "          docLink.innerHTML = docLinkHtml;\n",
              "          element.appendChild(docLink);\n",
              "        }\n",
              "      </script>\n",
              "    </div>\n",
              "  </div>\n",
              "  "
            ]
          },
          "metadata": {},
          "execution_count": 7
        }
      ],
      "source": [
        "data=pd.read_csv(\"/content/magic04.data\", header = None)\n",
        "data"
      ]
    },
    {
      "cell_type": "markdown",
      "metadata": {
        "id": "eKn6ZxQv08-P"
      },
      "source": [
        "Check For Null values (Not to ruin our data)"
      ]
    },
    {
      "cell_type": "code",
      "execution_count": 8,
      "metadata": {
        "colab": {
          "base_uri": "https://localhost:8080/",
          "height": 576
        },
        "id": "vsmSDIdZ0Ud7",
        "outputId": "175ce8c0-ea11-47e4-a74e-51e0bbe076cc"
      },
      "outputs": [
        {
          "output_type": "stream",
          "name": "stdout",
          "text": [
            "<class 'pandas.core.frame.DataFrame'>\n",
            "RangeIndex: 19020 entries, 0 to 19019\n",
            "Data columns (total 11 columns):\n",
            " #   Column  Non-Null Count  Dtype  \n",
            "---  ------  --------------  -----  \n",
            " 0   0       19020 non-null  float64\n",
            " 1   1       19020 non-null  float64\n",
            " 2   2       19020 non-null  float64\n",
            " 3   3       19020 non-null  float64\n",
            " 4   4       19020 non-null  float64\n",
            " 5   5       19020 non-null  float64\n",
            " 6   6       19020 non-null  float64\n",
            " 7   7       19020 non-null  float64\n",
            " 8   8       19020 non-null  float64\n",
            " 9   9       19020 non-null  float64\n",
            " 10  10      19020 non-null  object \n",
            "dtypes: float64(10), object(1)\n",
            "memory usage: 1.6+ MB\n"
          ]
        },
        {
          "output_type": "display_data",
          "data": {
            "text/plain": [
              "<Figure size 432x288 with 2 Axes>"
            ],
            "image/png": "[encoded data removed]"
          },
          "metadata": {
            "needs_background": "light"
          }
        }
      ],
      "source": [
        "sb.heatmap(data.isnull())\n",
        "data.info()     # all coloumns are non-null"
      ]
    },
    {
      "cell_type": "markdown",
      "metadata": {
        "id": "ADTKq5CbJRtb"
      },
      "source": [
        "# Data  Split "
      ]
    },
    {
      "cell_type": "code",
      "execution_count": null,
      "metadata": {
        "id": "dgfnU9960fx9"
      },
      "outputs": [],
      "source": [
        "x, y = data.iloc[:, :-1], data.iloc[:, [-1]]  # split features and label\n",
        "x, y = make_imbalance(x, y, sampling_strategy={'g': 6688, 'h': 6688}, random_state=14)\n",
        "X_train, X_test, y_train, y_test =  train_test_split(x, y,\n",
        "                                                     test_size=0.3,\n",
        "                                                      train_size=0.7,\n",
        "                                                      random_state=17)\n",
        "# \n",
        "# X_train, y_train = ADASYN().fit_resample(X_train,y_train)\n",
        "# print(X_train.value_counts())\n",
        "# print(y_train.value_counts())\n"
      ]
    },
    {
      "cell_type": "code",
      "execution_count": null,
      "metadata": {
        "colab": {
          "base_uri": "https://localhost:8080/"
        },
        "id": "02l-0mY33iQJ",
        "outputId": "bc1cfc68-1c47-4a8f-94d8-43452a532f9c"
      },
      "outputs": [
        {
          "output_type": "stream",
          "name": "stdout",
          "text": [
            "10\n",
            "g     4682\n",
            "h     4681\n",
            "dtype: int64\n",
            "10\n",
            "h     2007\n",
            "g     2006\n",
            "dtype: int64\n"
          ]
        }
      ],
      "source": [
        "print(y_train.value_counts())\n",
        "print(y_test.value_counts())"
      ]
    },
    {
      "cell_type": "code",
      "execution_count": null,
      "metadata": {
        "id": "K_amwM8VIdC5"
      },
      "outputs": [],
      "source": [
        "y_train = np.ravel(y_train, order='C')"
      ]
    },
    {
      "cell_type": "code",
      "execution_count": null,
      "metadata": {
        "id": "fgzVoVwq11hC"
      },
      "outputs": [],
      "source": [
        "def crossValidate(X_train, y_train, classifier):\n",
        "    acc_list = [0, 0]\n",
        "    X_train = np.array(X_train)\n",
        "    y_train = np.array(y_train)\n",
        "    print('IN CROSS VALIDATION:\\n\\n')\n",
        "    for fold in range(2, 100):  # Tested in range(2, 100)  and 19 was highest accuracy\n",
        "        kf = KFold(n_splits=fold)\n",
        "        kf.get_n_splits(X_train)\n",
        "        acc = 0\n",
        "        counter = 0\n",
        "        for train_index, test_index in kf.split(X_train):\n",
        "            KFX_train, KFX_test = X_train[train_index], X_train[test_index]\n",
        "            KFy_train, KFy_test = y_train[train_index], y_train[test_index]\n",
        "            classifier.fit(KFX_train, KFy_train)\n",
        "            KFy_predict = classifier.predict(KFX_test)\n",
        "            acc += accuracy_score(KFy_test, KFy_predict) * 100\n",
        "            counter += 1\n",
        "        acc = acc / counter\n",
        "        if acc > acc_list[1]:\n",
        "            acc_list = [fold, acc]\n",
        "    return acc_list"
      ]
    },
    {
      "cell_type": "markdown",
      "metadata": {
        "id": "3uvuk3wR6dc5"
      },
      "source": [
        "#**Decision** **Tree** "
      ]
    },
    {
      "cell_type": "code",
      "execution_count": null,
      "metadata": {
        "colab": {
          "base_uri": "https://localhost:8080/"
        },
        "id": "ADeoy1LM4Izi",
        "outputId": "bfd8b3d7-d7eb-4910-d485-7de0c51b037e"
      },
      "outputs": [
        {
          "output_type": "execute_result",
          "data": {
            "text/plain": [
              "0.7924246199850485"
            ]
          },
          "metadata": {},
          "execution_count": 10
        }
      ],
      "source": [
        "model = DecisionTreeClassifier().fit(X_train, y_train)\n",
        "y_predict = model.predict(X_test)\n",
        "model.score(X_test, y_test) "
      ]
    },
    {
      "cell_type": "code",
      "execution_count": null,
      "metadata": {
        "colab": {
          "base_uri": "https://localhost:8080/"
        },
        "id": "GfB3Bs2X6XTZ",
        "outputId": "0223d46a-db20-410e-96c6-90342a618fdf"
      },
      "outputs": [
        {
          "output_type": "stream",
          "name": "stdout",
          "text": [
            "Confusion Matrix:\n",
            "\n",
            "CorrectG: 1604\t\tWrongG: 402\n",
            "CorrectH: 1576\t\tWrongH: 431\n",
            "\n",
            "Accuracy: 79.24246199850485\n",
            "\n",
            "Report:\n",
            "              precision    recall  f1-score   support\n",
            "\n",
            "           g       0.79      0.80      0.79      2006\n",
            "           h       0.80      0.79      0.79      2007\n",
            "\n",
            "    accuracy                           0.79      4013\n",
            "   macro avg       0.79      0.79      0.79      4013\n",
            "weighted avg       0.79      0.79      0.79      4013\n",
            "\n",
            "\n"
          ]
        }
      ],
      "source": [
        "CorrectG, WrongG = confusion_matrix(y_test, y_predict)[0]\n",
        "WrongH, CorrectH = confusion_matrix(y_test, y_predict)[1]\n",
        "print(\"Confusion Matrix:\\n\")\n",
        "print(f'CorrectG: {CorrectG}\\t\\tWrongG: {WrongG}\\nCorrectH: {CorrectH}\\t\\tWrongH: {WrongH}\\n')\n",
        "print(f\"Accuracy: {accuracy_score(y_test, y_predict) * 100}\\n\")\n",
        "print('Report:')\n",
        "print(f\"{classification_report(y_test, y_predict)}\\n\", )"
      ]
    },
    {
      "cell_type": "markdown",
      "metadata": {
        "id": "8kXDOT2xKn89"
      },
      "source": [
        "# **AdaBoost**\n",
        "Model Training"
      ]
    },
    {
      "cell_type": "code",
      "execution_count": null,
      "metadata": {
        "id": "ebbKY9ma_GnH"
      },
      "outputs": [],
      "source": [
        "# hyperParam = [1, 1, 0]\n",
        "# acc_data = []\n",
        "# for n in range(1,200):  # Tested in range(1, 200) \n",
        "#         clf = AdaBoostClassifier(n_estimators= n, learning_rate=1)\n",
        "#         acc_list_temp = crossValidate(X_train, y_train, clf)\n",
        "#         acc_data.append(acc_list_temp[1])\n",
        "#         if acc_list_temp[1] > hyperParam[2]:\n",
        "#             hyperParam = [n, acc_list_temp[0], acc_list_temp[1]]\n",
        "# pyplot.plot(range(5, 205, 5), acc_data)\n",
        "# pyplot.title('Ada Boost with N Estimators')\n",
        "# pyplot.xlabel(\"K\")\n",
        "# pyplot.ylabel(\"Accuracy\")\n",
        "# pyplot.show()\n",
        "# print(f'Best k = {hyperParam[0]} with best accuracy = {hyperParam[2]}')"
      ]
    },
    {
      "cell_type": "code",
      "execution_count": null,
      "metadata": {
        "id": "0kPpOsvhKshc"
      },
      "outputs": [],
      "source": [
        "AdaModel = AdaBoostClassifier(n_estimators= 165, learning_rate=1)"
      ]
    },
    {
      "cell_type": "code",
      "execution_count": null,
      "metadata": {
        "colab": {
          "base_uri": "https://localhost:8080/"
        },
        "id": "8wxWYv4sLoUv",
        "outputId": "12bb18be-a6e6-40ef-fde9-0662f0447602"
      },
      "outputs": [
        {
          "output_type": "execute_result",
          "data": {
            "text/plain": [
              "0.8253177174183902"
            ]
          },
          "metadata": {},
          "execution_count": 14
        }
      ],
      "source": [
        "model = AdaModel.fit(X_train, y_train)\n",
        "y_predict2 = model.predict(X_test)\n",
        "model.score(X_test, y_test) "
      ]
    },
    {
      "cell_type": "code",
      "execution_count": null,
      "metadata": {
        "colab": {
          "base_uri": "https://localhost:8080/"
        },
        "id": "2h1u-0pMQ6UL",
        "outputId": "250808de-0677-40ec-8d7e-dc839d18db76"
      },
      "outputs": [
        {
          "output_type": "stream",
          "name": "stdout",
          "text": [
            "Confusion Matrix:\n",
            "\n",
            "CorrectG: 1657\t\tWrongG: 349\n",
            "CorrectH: 1655\t\tWrongH: 352\n",
            "\n",
            "Accuracy: 82.53177174183902\n",
            "\n",
            "Report:\n",
            "              precision    recall  f1-score   support\n",
            "\n",
            "           g       0.82      0.83      0.83      2006\n",
            "           h       0.83      0.82      0.83      2007\n",
            "\n",
            "    accuracy                           0.83      4013\n",
            "   macro avg       0.83      0.83      0.83      4013\n",
            "weighted avg       0.83      0.83      0.83      4013\n",
            "\n",
            "\n"
          ]
        }
      ],
      "source": [
        "CorrectG, WrongG = confusion_matrix(y_test, y_predict2)[0]\n",
        "WrongH, CorrectH = confusion_matrix(y_test, y_predict2)[1]\n",
        "print(\"Confusion Matrix:\\n\")\n",
        "print(f'CorrectG: {CorrectG}\\t\\tWrongG: {WrongG}\\nCorrectH: {CorrectH}\\t\\tWrongH: {WrongH}\\n')\n",
        "print(f\"Accuracy: {accuracy_score(y_test, y_predict2) * 100}\\n\")\n",
        "print('Report:')\n",
        "print(f\"{classification_report(y_test, y_predict2)}\\n\", )"
      ]
    },
    {
      "cell_type": "markdown",
      "metadata": {
        "id": "JfQlW2mCOF7j"
      },
      "source": [
        "# **Random Forest**"
      ]
    },
    {
      "cell_type": "code",
      "execution_count": null,
      "metadata": {
        "id": "bY66B6xk-zcF"
      },
      "outputs": [],
      "source": [
        "# hyperParam = [1, 1, 0]\n",
        "# acc_data = []\n",
        "# for n in range(1,200):  # Tested in range(1, 200)  and 75 was highest accuracy\n",
        "#         clf = ensemble.RandomForestClassifier(n_estimators= n)\n",
        "#         acc_list_temp = crossValidate(X_train, y_train, clf)\n",
        "#         acc_data.append(acc_list_temp[1])\n",
        "#         if acc_list_temp[1] > hyperParam[2]:\n",
        "#             hyperParam = [n, acc_list_temp[0], acc_list_temp[1]]\n",
        "# pyplot.plot(range(5, 205, 5), acc_data)\n",
        "# pyplot.title('Random Forest with N Estimators')\n",
        "# pyplot.xlabel(\"K\")\n",
        "# pyplot.ylabel(\"Accuracy\")\n",
        "# pyplot.show()\n",
        "# print(f'Best k = {hyperParam[0]} with best accuracy = {hyperParam[2]}')"
      ]
    },
    {
      "cell_type": "code",
      "execution_count": null,
      "metadata": {
        "colab": {
          "base_uri": "https://localhost:8080/"
        },
        "id": "mD6v_ziIQAoT",
        "outputId": "789be97b-a9b0-4dcf-b323-c9a16a196287"
      },
      "outputs": [
        {
          "output_type": "execute_result",
          "data": {
            "text/plain": [
              "0.8659357089459258"
            ]
          },
          "metadata": {},
          "execution_count": 17
        }
      ],
      "source": [
        "Forest_model = ensemble.RandomForestClassifier(n_estimators= 75)\n",
        "Forest_model.fit(X_train , y_train)\n",
        "y_predict3 = Forest_model.predict(X_test)\n",
        "Forest_model.score(X_test, y_test)"
      ]
    },
    {
      "cell_type": "code",
      "execution_count": null,
      "metadata": {
        "colab": {
          "base_uri": "https://localhost:8080/"
        },
        "id": "VE_2a78VRijL",
        "outputId": "8c889da7-67bb-47ad-d072-b1b521f35f52"
      },
      "outputs": [
        {
          "output_type": "stream",
          "name": "stdout",
          "text": [
            "Confusion Matrix:\n",
            "\n",
            "CorrectG: 1783\t\tWrongG: 223\n",
            "CorrectH: 1692\t\tWrongH: 315\n",
            "\n",
            "Accuracy: 86.59357089459257\n",
            "\n",
            "Report:\n",
            "              precision    recall  f1-score   support\n",
            "\n",
            "           g       0.85      0.89      0.87      2006\n",
            "           h       0.88      0.84      0.86      2007\n",
            "\n",
            "    accuracy                           0.87      4013\n",
            "   macro avg       0.87      0.87      0.87      4013\n",
            "weighted avg       0.87      0.87      0.87      4013\n",
            "\n",
            "\n"
          ]
        }
      ],
      "source": [
        "CorrectG, WrongG = confusion_matrix(y_test, y_predict3)[0]\n",
        "WrongH, CorrectH = confusion_matrix(y_test, y_predict3)[1]\n",
        "print(\"Confusion Matrix:\\n\")\n",
        "print(f'CorrectG: {CorrectG}\\t\\tWrongG: {WrongG}\\nCorrectH: {CorrectH}\\t\\tWrongH: {WrongH}\\n')\n",
        "print(f\"Accuracy: {accuracy_score(y_test, y_predict3) * 100}\\n\")\n",
        "print('Report:')\n",
        "print(f\"{classification_report(y_test, y_predict3)}\\n\", )"
      ]
    },
    {
      "cell_type": "markdown",
      "metadata": {
        "id": "yvvoFSmPSaFe"
      },
      "source": [
        "# **Naïve Bayes**"
      ]
    },
    {
      "cell_type": "code",
      "execution_count": null,
      "metadata": {
        "id": "YzgLscx6SiZN"
      },
      "outputs": [],
      "source": [
        "Naive_model = GaussianNB()"
      ]
    },
    {
      "cell_type": "code",
      "execution_count": null,
      "metadata": {
        "colab": {
          "base_uri": "https://localhost:8080/"
        },
        "id": "e5rv4GqjTEtG",
        "outputId": "b3d8e36b-130b-4054-c570-5cd2545b3787"
      },
      "outputs": [
        {
          "output_type": "execute_result",
          "data": {
            "text/plain": [
              "0.6508846249688512"
            ]
          },
          "metadata": {},
          "execution_count": 20
        }
      ],
      "source": [
        "Naive_model.fit(X_train, y_train)\n",
        "y_predict4 = Naive_model.predict(X_test)\n",
        "Naive_model.score(X_test, y_test)"
      ]
    },
    {
      "cell_type": "code",
      "execution_count": null,
      "metadata": {
        "colab": {
          "base_uri": "https://localhost:8080/"
        },
        "id": "dSI3x3-STmbY",
        "outputId": "e5f7e295-cbdb-44ff-851d-14a980beebbb"
      },
      "outputs": [
        {
          "output_type": "stream",
          "name": "stdout",
          "text": [
            "Confusion Matrix:\n",
            "\n",
            "CorrectG: 1815\t\tWrongG: 191\n",
            "CorrectH: 797\t\tWrongH: 1210\n",
            "\n",
            "Accuracy: 65.08846249688513\n",
            "\n",
            "Report:\n",
            "              precision    recall  f1-score   support\n",
            "\n",
            "           g       0.60      0.90      0.72      2006\n",
            "           h       0.81      0.40      0.53      2007\n",
            "\n",
            "    accuracy                           0.65      4013\n",
            "   macro avg       0.70      0.65      0.63      4013\n",
            "weighted avg       0.70      0.65      0.63      4013\n",
            "\n",
            "\n"
          ]
        }
      ],
      "source": [
        "CorrectG, WrongG = confusion_matrix(y_test, y_predict4)[0]\n",
        "WrongH, CorrectH = confusion_matrix(y_test, y_predict4)[1]\n",
        "print(\"Confusion Matrix:\\n\")\n",
        "print(f'CorrectG: {CorrectG}\\t\\tWrongG: {WrongG}\\nCorrectH: {CorrectH}\\t\\tWrongH: {WrongH}\\n')\n",
        "print(f\"Accuracy: {accuracy_score(y_test, y_predict4) * 100}\\n\")\n",
        "print('Report:')\n",
        "print(f\"{classification_report(y_test, y_predict4)}\\n\", )"
      ]
    },
    {
      "cell_type": "markdown",
      "metadata": {
        "id": "etzKgPgcUH5p"
      },
      "source": [
        "# **K-Nearest Neigbhors**"
      ]
    },
    {
      "cell_type": "code",
      "execution_count": null,
      "metadata": {
        "id": "3len7Mla1TWE"
      },
      "outputs": [],
      "source": [
        "# hyperParam = [1, 1, 0]\n",
        "# acc_data = []\n",
        "# for k in range(1,200):  # Tested in range(1, 200)  and 7 was highest accuracy\n",
        "#         clf = KNeighborsClassifier(n_neighbors=k)\n",
        "#         acc_list_temp = crossValidate(X_train, y_train, clf)\n",
        "#         acc_data.append(acc_list_temp[1])\n",
        "#         if acc_list_temp[1] > hyperParam[2]:\n",
        "#             hyperParam = [k, acc_list_temp[0], acc_list_temp[1]]\n",
        "# pyplot.plot(range(5, 205, 5), acc_data)\n",
        "# pyplot.title('KNN with K Tuned')\n",
        "# pyplot.xlabel(\"K\")\n",
        "# pyplot.ylabel(\"Accuracy\")\n",
        "# pyplot.show()\n",
        "# print(f'Best k = {hyperParam[0]} with best accuracy = {hyperParam[2]}')"
      ]
    },
    {
      "cell_type": "code",
      "execution_count": null,
      "metadata": {
        "colab": {
          "base_uri": "https://localhost:8080/"
        },
        "id": "JuRyZ502UHbz",
        "outputId": "ccfaf515-be51-491b-92e9-4723534a2adc"
      },
      "outputs": [
        {
          "output_type": "execute_result",
          "data": {
            "text/plain": [
              "0.7737353600797409"
            ]
          },
          "metadata": {},
          "execution_count": 23
        }
      ],
      "source": [
        "K_model = KNeighborsClassifier(n_neighbors= 7)\n",
        "K_model.fit(X_train,y_train)\n",
        "y_predict5 = K_model.predict(X_test)\n",
        "K_model.score(X_test, y_test)\n"
      ]
    },
    {
      "cell_type": "code",
      "execution_count": null,
      "metadata": {
        "colab": {
          "base_uri": "https://localhost:8080/"
        },
        "id": "dJTQEKaTV_D9",
        "outputId": "3e1d1e4a-c8fd-4ebb-c49d-6b99b3b023ac"
      },
      "outputs": [
        {
          "output_type": "stream",
          "name": "stdout",
          "text": [
            "Confusion Matrix:\n",
            "\n",
            "CorrectG: 1696\t\tWrongG: 310\n",
            "CorrectH: 1409\t\tWrongH: 598\n",
            "\n",
            "Accuracy: 77.37353600797408\n",
            "\n",
            "Report:\n",
            "              precision    recall  f1-score   support\n",
            "\n",
            "           g       0.74      0.85      0.79      2006\n",
            "           h       0.82      0.70      0.76      2007\n",
            "\n",
            "    accuracy                           0.77      4013\n",
            "   macro avg       0.78      0.77      0.77      4013\n",
            "weighted avg       0.78      0.77      0.77      4013\n",
            "\n",
            "\n"
          ]
        }
      ],
      "source": [
        "CorrectG, WrongG = confusion_matrix(y_test, y_predict5)[0]\n",
        "WrongH, CorrectH = confusion_matrix(y_test, y_predict5)[1]\n",
        "print(\"Confusion Matrix:\\n\")\n",
        "print(f'CorrectG: {CorrectG}\\t\\tWrongG: {WrongG}\\nCorrectH: {CorrectH}\\t\\tWrongH: {WrongH}\\n')\n",
        "print(f\"Accuracy: {accuracy_score(y_test, y_predict5) * 100}\\n\")\n",
        "print('Report:')\n",
        "print(f\"{classification_report(y_test, y_predict5)}\\n\", )"
      ]
    }
  ],
  "metadata": {
    "colab": {
      "collapsed_sections": [],
      "name": "MLClassifcation.ipynb",
      "provenance": [],
      "include_colab_link": true
    },
    "kernelspec": {
      "display_name": "Python 3",
      "name": "python3"
    },
    "language_info": {
      "name": "python"
    }
  },
  "nbformat": 4,
  "nbformat_minor": 0
}