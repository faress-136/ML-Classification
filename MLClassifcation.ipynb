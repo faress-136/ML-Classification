{
  "cells": [
    {
      "cell_type": "markdown",
      "metadata": {
        "id": "view-in-github",
        "colab_type": "text"
      },
      "source": [
        "<a href=\"https://colab.research.google.com/github/faress-136/ML-Classification/blob/main/MLClassifcation.ipynb\" target=\"_parent\"><img src=\"https://colab.research.google.com/assets/colab-badge.svg\" alt=\"Open In Colab\"/></a>"
      ]
    },
    {
      "cell_type": "code",
      "execution_count": null,
      "metadata": {
        "id": "xURsFx5gyMy_"
      },
      "outputs": [],
      "source": [
        "import numpy as np\n",
        "import pandas as pd\n",
        "import seaborn as sb\n",
        "from sklearn.model_selection import train_test_split , StratifiedKFold  , cross_val_score\n",
        "from imblearn.datasets import make_imbalance\n",
        "from imblearn.over_sampling import SMOTE, ADASYN\n",
        "from sklearn.tree import DecisionTreeClassifier\n",
        "from sklearn.metrics import confusion_matrix, accuracy_score, classification_report\n",
        "from sklearn.ensemble import AdaBoostClassifier\n",
        "from sklearn import metrics\n",
        "from sklearn import ensemble\n",
        "from sklearn.neighbors import KNeighborsClassifier\n",
        "from sklearn.naive_bayes import GaussianNB\n",
        "from sklearn.model_selection import KFold\n",
        "from matplotlib import pyplot\n",
        "from keras.models import Sequential\n",
        "from keras.layers import Dense\n",
        "import tensorflow as tf\n",
        "from sklearn.preprocessing import LabelEncoder\n"
      ]
    },
    {
      "cell_type": "markdown",
      "metadata": {
        "id": "ARu1mRSMznFt"
      },
      "source": [
        "### File Read"
      ]
    },
    {
      "cell_type": "code",
      "execution_count": null,
      "metadata": {
        "colab": {
          "base_uri": "https://localhost:8080/",
          "height": 424
        },
        "id": "Xjka2lXAzWKz",
        "outputId": "f0a5180a-4650-4b7b-acb0-7c9e26602e54"
      },
      "outputs": [
        {
          "output_type": "execute_result",
          "data": {
            "text/plain": [
              "             x1        x2      x3      x4      x5        x6        x7  \\\n",
              "0       28.7967   16.0021  2.6449  0.3918  0.1982   27.7004   22.0110   \n",
              "1       31.6036   11.7235  2.5185  0.5303  0.3773   26.2722   23.8238   \n",
              "2      162.0520  136.0310  4.0612  0.0374  0.0187  116.7410  -64.8580   \n",
              "3       23.8172    9.5728  2.3385  0.6147  0.3922   27.2107   -6.4633   \n",
              "4       75.1362   30.9205  3.1611  0.3168  0.1832   -5.5277   28.5525   \n",
              "...         ...       ...     ...     ...     ...       ...       ...   \n",
              "19015   21.3846   10.9170  2.6161  0.5857  0.3934   15.2618   11.5245   \n",
              "19016   28.9452    6.7020  2.2672  0.5351  0.2784   37.0816   13.1853   \n",
              "19017   75.4455   47.5305  3.4483  0.1417  0.0549   -9.3561   41.0562   \n",
              "19018  120.5135   76.9018  3.9939  0.0944  0.0683    5.8043  -93.5224   \n",
              "19019  187.1814   53.0014  3.2093  0.2876  0.1539 -167.3125 -168.4558   \n",
              "\n",
              "            x8       x9       x10 label  \n",
              "0      -8.2027  40.0920   81.8828     g  \n",
              "1      -9.9574   6.3609  205.2610     g  \n",
              "2     -45.2160  76.9600  256.7880     g  \n",
              "3      -7.1513  10.4490  116.7370     g  \n",
              "4      21.8393   4.6480  356.4620     g  \n",
              "...        ...      ...       ...   ...  \n",
              "19015   2.8766   2.4229  106.8258     h  \n",
              "19016  -2.9632  86.7975  247.4560     h  \n",
              "19017  -9.4662  30.2987  256.5166     h  \n",
              "19018 -63.8389  84.6874  408.3166     h  \n",
              "19019  31.4755  52.7310  272.3174     h  \n",
              "\n",
              "[19020 rows x 11 columns]"
            ],
            "text/html": [
              "\n",
              "  <div id=\"df-aa6e78af-6eb0-4b6d-bf55-09c9a9240e0b\">\n",
              "    <div class=\"colab-df-container\">\n",
              "      <div>\n",
              "<style scoped>\n",
              "    .dataframe tbody tr th:only-of-type {\n",
              "        vertical-align: middle;\n",
              "    }\n",
              "\n",
              "    .dataframe tbody tr th {\n",
              "        vertical-align: top;\n",
              "    }\n",
              "\n",
              "    .dataframe thead th {\n",
              "        text-align: right;\n",
              "    }\n",
              "</style>\n",
              "<table border=\"1\" class=\"dataframe\">\n",
              "  <thead>\n",
              "    <tr style=\"text-align: right;\">\n",
              "      <th></th>\n",
              "      <th>x1</th>\n",
              "      <th>x2</th>\n",
              "      <th>x3</th>\n",
              "      <th>x4</th>\n",
              "      <th>x5</th>\n",
              "      <th>x6</th>\n",
              "      <th>x7</th>\n",
              "      <th>x8</th>\n",
              "      <th>x9</th>\n",
              "      <th>x10</th>\n",
              "      <th>label</th>\n",
              "    </tr>\n",
              "  </thead>\n",
              "  <tbody>\n",
              "    <tr>\n",
              "      <th>0</th>\n",
              "      <td>28.7967</td>\n",
              "      <td>16.0021</td>\n",
              "      <td>2.6449</td>\n",
              "      <td>0.3918</td>\n",
              "      <td>0.1982</td>\n",
              "      <td>27.7004</td>\n",
              "      <td>22.0110</td>\n",
              "      <td>-8.2027</td>\n",
              "      <td>40.0920</td>\n",
              "      <td>81.8828</td>\n",
              "      <td>g</td>\n",
              "    </tr>\n",
              "    <tr>\n",
              "      <th>1</th>\n",
              "      <td>31.6036</td>\n",
              "      <td>11.7235</td>\n",
              "      <td>2.5185</td>\n",
              "      <td>0.5303</td>\n",
              "      <td>0.3773</td>\n",
              "      <td>26.2722</td>\n",
              "      <td>23.8238</td>\n",
              "      <td>-9.9574</td>\n",
              "      <td>6.3609</td>\n",
              "      <td>205.2610</td>\n",
              "      <td>g</td>\n",
              "    </tr>\n",
              "    <tr>\n",
              "      <th>2</th>\n",
              "      <td>162.0520</td>\n",
              "      <td>136.0310</td>\n",
              "      <td>4.0612</td>\n",
              "      <td>0.0374</td>\n",
              "      <td>0.0187</td>\n",
              "      <td>116.7410</td>\n",
              "      <td>-64.8580</td>\n",
              "      <td>-45.2160</td>\n",
              "      <td>76.9600</td>\n",
              "      <td>256.7880</td>\n",
              "      <td>g</td>\n",
              "    </tr>\n",
              "    <tr>\n",
              "      <th>3</th>\n",
              "      <td>23.8172</td>\n",
              "      <td>9.5728</td>\n",
              "      <td>2.3385</td>\n",
              "      <td>0.6147</td>\n",
              "      <td>0.3922</td>\n",
              "      <td>27.2107</td>\n",
              "      <td>-6.4633</td>\n",
              "      <td>-7.1513</td>\n",
              "      <td>10.4490</td>\n",
              "      <td>116.7370</td>\n",
              "      <td>g</td>\n",
              "    </tr>\n",
              "    <tr>\n",
              "      <th>4</th>\n",
              "      <td>75.1362</td>\n",
              "      <td>30.9205</td>\n",
              "      <td>3.1611</td>\n",
              "      <td>0.3168</td>\n",
              "      <td>0.1832</td>\n",
              "      <td>-5.5277</td>\n",
              "      <td>28.5525</td>\n",
              "      <td>21.8393</td>\n",
              "      <td>4.6480</td>\n",
              "      <td>356.4620</td>\n",
              "      <td>g</td>\n",
              "    </tr>\n",
              "    <tr>\n",
              "      <th>...</th>\n",
              "      <td>...</td>\n",
              "      <td>...</td>\n",
              "      <td>...</td>\n",
              "      <td>...</td>\n",
              "      <td>...</td>\n",
              "      <td>...</td>\n",
              "      <td>...</td>\n",
              "      <td>...</td>\n",
              "      <td>...</td>\n",
              "      <td>...</td>\n",
              "      <td>...</td>\n",
              "    </tr>\n",
              "    <tr>\n",
              "      <th>19015</th>\n",
              "      <td>21.3846</td>\n",
              "      <td>10.9170</td>\n",
              "      <td>2.6161</td>\n",
              "      <td>0.5857</td>\n",
              "      <td>0.3934</td>\n",
              "      <td>15.2618</td>\n",
              "      <td>11.5245</td>\n",
              "      <td>2.8766</td>\n",
              "      <td>2.4229</td>\n",
              "      <td>106.8258</td>\n",
              "      <td>h</td>\n",
              "    </tr>\n",
              "    <tr>\n",
              "      <th>19016</th>\n",
              "      <td>28.9452</td>\n",
              "      <td>6.7020</td>\n",
              "      <td>2.2672</td>\n",
              "      <td>0.5351</td>\n",
              "      <td>0.2784</td>\n",
              "      <td>37.0816</td>\n",
              "      <td>13.1853</td>\n",
              "      <td>-2.9632</td>\n",
              "      <td>86.7975</td>\n",
              "      <td>247.4560</td>\n",
              "      <td>h</td>\n",
              "    </tr>\n",
              "    <tr>\n",
              "      <th>19017</th>\n",
              "      <td>75.4455</td>\n",
              "      <td>47.5305</td>\n",
              "      <td>3.4483</td>\n",
              "      <td>0.1417</td>\n",
              "      <td>0.0549</td>\n",
              "      <td>-9.3561</td>\n",
              "      <td>41.0562</td>\n",
              "      <td>-9.4662</td>\n",
              "      <td>30.2987</td>\n",
              "      <td>256.5166</td>\n",
              "      <td>h</td>\n",
              "    </tr>\n",
              "    <tr>\n",
              "      <th>19018</th>\n",
              "      <td>120.5135</td>\n",
              "      <td>76.9018</td>\n",
              "      <td>3.9939</td>\n",
              "      <td>0.0944</td>\n",
              "      <td>0.0683</td>\n",
              "      <td>5.8043</td>\n",
              "      <td>-93.5224</td>\n",
              "      <td>-63.8389</td>\n",
              "      <td>84.6874</td>\n",
              "      <td>408.3166</td>\n",
              "      <td>h</td>\n",
              "    </tr>\n",
              "    <tr>\n",
              "      <th>19019</th>\n",
              "      <td>187.1814</td>\n",
              "      <td>53.0014</td>\n",
              "      <td>3.2093</td>\n",
              "      <td>0.2876</td>\n",
              "      <td>0.1539</td>\n",
              "      <td>-167.3125</td>\n",
              "      <td>-168.4558</td>\n",
              "      <td>31.4755</td>\n",
              "      <td>52.7310</td>\n",
              "      <td>272.3174</td>\n",
              "      <td>h</td>\n",
              "    </tr>\n",
              "  </tbody>\n",
              "</table>\n",
              "<p>19020 rows × 11 columns</p>\n",
              "</div>\n",
              "      <button class=\"colab-df-convert\" onclick=\"convertToInteractive('df-aa6e78af-6eb0-4b6d-bf55-09c9a9240e0b')\"\n",
              "              title=\"Convert this dataframe to an interactive table.\"\n",
              "              style=\"display:none;\">\n",
              "        \n",
              "  <svg xmlns=\"http://www.w3.org/2000/svg\" height=\"24px\"viewBox=\"0 0 24 24\"\n",
              "       width=\"24px\">\n",
              "    <path d=\"M0 0h24v24H0V0z\" fill=\"none\"/>\n",
              "    <path d=\"M18.56 5.44l.94 2.06.94-2.06 2.06-.94-2.06-.94-.94-2.06-.94 2.06-2.06.94zm-11 1L8.5 8.5l.94-2.06 2.06-.94-2.06-.94L8.5 2.5l-.94 2.06-2.06.94zm10 10l.94 2.06.94-2.06 2.06-.94-2.06-.94-.94-2.06-.94 2.06-2.06.94z\"/><path d=\"M17.41 7.96l-1.37-1.37c-.4-.4-.92-.59-1.43-.59-.52 0-1.04.2-1.43.59L10.3 9.45l-7.72 7.72c-.78.78-.78 2.05 0 2.83L4 21.41c.39.39.9.59 1.41.59.51 0 1.02-.2 1.41-.59l7.78-7.78 2.81-2.81c.8-.78.8-2.07 0-2.86zM5.41 20L4 18.59l7.72-7.72 1.47 1.35L5.41 20z\"/>\n",
              "  </svg>\n",
              "      </button>\n",
              "      \n",
              "  <style>\n",
              "    .colab-df-container {\n",
              "      display:flex;\n",
              "      flex-wrap:wrap;\n",
              "      gap: 12px;\n",
              "    }\n",
              "\n",
              "    .colab-df-convert {\n",
              "      background-color: #E8F0FE;\n",
              "      border: none;\n",
              "      border-radius: 50%;\n",
              "      cursor: pointer;\n",
              "      display: none;\n",
              "      fill: #1967D2;\n",
              "      height: 32px;\n",
              "      padding: 0 0 0 0;\n",
              "      width: 32px;\n",
              "    }\n",
              "\n",
              "    .colab-df-convert:hover {\n",
              "      background-color: #E2EBFA;\n",
              "      box-shadow: 0px 1px 2px rgba(60, 64, 67, 0.3), 0px 1px 3px 1px rgba(60, 64, 67, 0.15);\n",
              "      fill: #174EA6;\n",
              "    }\n",
              "\n",
              "    [theme=dark] .colab-df-convert {\n",
              "      background-color: #3B4455;\n",
              "      fill: #D2E3FC;\n",
              "    }\n",
              "\n",
              "    [theme=dark] .colab-df-convert:hover {\n",
              "      background-color: #434B5C;\n",
              "      box-shadow: 0px 1px 3px 1px rgba(0, 0, 0, 0.15);\n",
              "      filter: drop-shadow(0px 1px 2px rgba(0, 0, 0, 0.3));\n",
              "      fill: #FFFFFF;\n",
              "    }\n",
              "  </style>\n",
              "\n",
              "      <script>\n",
              "        const buttonEl =\n",
              "          document.querySelector('#df-aa6e78af-6eb0-4b6d-bf55-09c9a9240e0b button.colab-df-convert');\n",
              "        buttonEl.style.display =\n",
              "          google.colab.kernel.accessAllowed ? 'block' : 'none';\n",
              "\n",
              "        async function convertToInteractive(key) {\n",
              "          const element = document.querySelector('#df-aa6e78af-6eb0-4b6d-bf55-09c9a9240e0b');\n",
              "          const dataTable =\n",
              "            await google.colab.kernel.invokeFunction('convertToInteractive',\n",
              "                                                     [key], {});\n",
              "          if (!dataTable) return;\n",
              "\n",
              "          const docLinkHtml = 'Like what you see? Visit the ' +\n",
              "            '<a target=\"_blank\" href=https://colab.research.google.com/notebooks/data_table.ipynb>data table notebook</a>'\n",
              "            + ' to learn more about interactive tables.';\n",
              "          element.innerHTML = '';\n",
              "          dataTable['output_type'] = 'display_data';\n",
              "          await google.colab.output.renderOutput(dataTable, element);\n",
              "          const docLink = document.createElement('div');\n",
              "          docLink.innerHTML = docLinkHtml;\n",
              "          element.appendChild(docLink);\n",
              "        }\n",
              "      </script>\n",
              "    </div>\n",
              "  </div>\n",
              "  "
            ]
          },
          "metadata": {},
          "execution_count": 113
        }
      ],
      "source": [
        "Headers = ['fLength', 'fWidth', 'fSize', 'fConc', 'fConc1', 'fAsym',  'fM3Long', 'fM3Trans', 'fAlpha', 'fDist', 'Class']\n",
        "data=pd.read_csv(\"/content/magic04.data\", names = None )\n",
        "data"
      ]
    },
    {
      "cell_type": "markdown",
      "metadata": {
        "id": "eKn6ZxQv08-P"
      },
      "source": [
        "Check For Null values (Not to ruin our data)"
      ]
    },
    {
      "cell_type": "code",
      "execution_count": null,
      "metadata": {
        "colab": {
          "base_uri": "https://localhost:8080/",
          "height": 582
        },
        "id": "vsmSDIdZ0Ud7",
        "outputId": "dd72940e-2178-4f9e-caf0-3fdc06b2064a"
      },
      "outputs": [
        {
          "output_type": "stream",
          "name": "stdout",
          "text": [
            "<class 'pandas.core.frame.DataFrame'>\n",
            "RangeIndex: 19020 entries, 0 to 19019\n",
            "Data columns (total 11 columns):\n",
            " #   Column  Non-Null Count  Dtype  \n",
            "---  ------  --------------  -----  \n",
            " 0   x1      19020 non-null  float64\n",
            " 1   x2      19020 non-null  float64\n",
            " 2   x3      19020 non-null  float64\n",
            " 3   x4      19020 non-null  float64\n",
            " 4   x5      19020 non-null  float64\n",
            " 5   x6      19020 non-null  float64\n",
            " 6   x7      19020 non-null  float64\n",
            " 7   x8      19020 non-null  float64\n",
            " 8   x9      19020 non-null  float64\n",
            " 9   x10     19020 non-null  float64\n",
            " 10  label   19020 non-null  object \n",
            "dtypes: float64(10), object(1)\n",
            "memory usage: 1.6+ MB\n"
          ]
        },
        {
          "output_type": "display_data",
          "data": {
            "text/plain": [
              "<Figure size 432x288 with 2 Axes>"
            ],
            "image/png": "[encoded data removed]"
          },
          "metadata": {
            "needs_background": "light"
          }
        }
      ],
      "source": [
        "sb.heatmap(data.isnull())\n",
        "data.info()     # all coloumns are non-null"
      ]
    },
    {
      "cell_type": "markdown",
      "metadata": {
        "id": "ADTKq5CbJRtb"
      },
      "source": [
        "# Data  Split "
      ]
    },
    {
      "cell_type": "code",
      "execution_count": null,
      "metadata": {
        "id": "dgfnU9960fx9"
      },
      "outputs": [],
      "source": [
        "x, y = data.iloc[:, :-1], data.iloc[:, [-1]]  # split features and label\n",
        "x, y = make_imbalance(x, y, sampling_strategy={'g': 6688, 'h': 6688}, random_state=14)\n",
        "X_train, X_test, y_train, y_test =  train_test_split(x, y,\n",
        "                                                     test_size=0.3,\n",
        "                                                      train_size=0.7,\n",
        "                                                      random_state=17)\n",
        "# \n",
        "# X_train, y_train = ADASYN().fit_resample(X_train,y_train)\n",
        "# print(X_train.value_counts())\n",
        "# print(y_train.value_counts())\n"
      ]
    },
    {
      "cell_type": "code",
      "execution_count": null,
      "metadata": {
        "colab": {
          "base_uri": "https://localhost:8080/"
        },
        "id": "02l-0mY33iQJ",
        "outputId": "b3fb8784-682b-42da-e3e4-f7cdb2e16a3e"
      },
      "outputs": [
        {
          "output_type": "stream",
          "name": "stdout",
          "text": [
            "label\n",
            "g        4682\n",
            "h        4681\n",
            "dtype: int64\n",
            "label\n",
            "h        2007\n",
            "g        2006\n",
            "dtype: int64\n"
          ]
        }
      ],
      "source": [
        "print(y_train.value_counts())\n",
        "print(y_test.value_counts())"
      ]
    },
    {
      "cell_type": "code",
      "execution_count": null,
      "metadata": {
        "id": "K_amwM8VIdC5"
      },
      "outputs": [],
      "source": [
        "y_train = np.ravel(y_train, order='C')"
      ]
    },
    {
      "cell_type": "code",
      "execution_count": null,
      "metadata": {
        "id": "fgzVoVwq11hC"
      },
      "outputs": [],
      "source": [
        "# def crossValidate(X_train, y_train, classifier):\n",
        "#     acc_list = [0, 0]\n",
        "#     X_train = np.array(X_train)\n",
        "#     y_train = np.array(y_train)\n",
        "#     print('IN CROSS VALIDATION:\\n\\n')\n",
        "#     for fold in range(2, 100):  # Tested in range(2, 100)  and 19 was highest accuracy\n",
        "#         kf = KFold(n_splits=fold)\n",
        "#         kf.get_n_splits(X_train)\n",
        "#         acc = 0\n",
        "#         counter = 0\n",
        "#         for train_index, test_index in kf.split(X_train):\n",
        "#             KFX_train, KFX_test = X_train[train_index], X_train[test_index]\n",
        "#             KFy_train, KFy_test = y_train[train_index], y_train[test_index]\n",
        "#             classifier.fit(KFX_train, KFy_train)\n",
        "#             KFy_predict = classifier.predict(KFX_test)\n",
        "#             acc += accuracy_score(KFy_test, KFy_predict) * 100\n",
        "#             counter += 1\n",
        "#         acc = acc / counter\n",
        "#         if acc > acc_list[1]:\n",
        "#             acc_list = [fold, acc]\n",
        "#     return acc_list"
      ]
    },
    {
      "cell_type": "markdown",
      "metadata": {
        "id": "3uvuk3wR6dc5"
      },
      "source": [
        "#**Decision** **Tree** "
      ]
    },
    {
      "cell_type": "code",
      "execution_count": null,
      "metadata": {
        "colab": {
          "base_uri": "https://localhost:8080/"
        },
        "id": "ADeoy1LM4Izi",
        "outputId": "71224c2c-2afa-4fca-b265-2a24dc9fbfd2"
      },
      "outputs": [
        {
          "output_type": "execute_result",
          "data": {
            "text/plain": [
              "0.7936705706454025"
            ]
          },
          "metadata": {},
          "execution_count": 119
        }
      ],
      "source": [
        "DecisionModel = DecisionTreeClassifier(criterion='gini')\n",
        "model=DecisionModel.fit(X_train, y_train)\n",
        "y_predict = model.predict(X_test)\n",
        "model.score(X_test, y_test) "
      ]
    },
    {
      "cell_type": "code",
      "source": [
        ""
      ],
      "metadata": {
        "id": "XJFLmZYxwlw-"
      },
      "execution_count": null,
      "outputs": []
    },
    {
      "cell_type": "code",
      "execution_count": null,
      "metadata": {
        "colab": {
          "base_uri": "https://localhost:8080/"
        },
        "id": "GfB3Bs2X6XTZ",
        "outputId": "62903b0d-c9b3-4b41-8315-e95c06fb3f60"
      },
      "outputs": [
        {
          "output_type": "stream",
          "name": "stdout",
          "text": [
            "Confusion Matrix:\n",
            "\n",
            "CorrectG: 1603\t\tWrongG: 403\n",
            "CorrectH: 1582\t\tWrongH: 425\n",
            "\n",
            "Accuracy: 79.36705706454025\n",
            "\n",
            "Report:\n",
            "              precision    recall  f1-score   support\n",
            "\n",
            "           g       0.79      0.80      0.79      2006\n",
            "           h       0.80      0.79      0.79      2007\n",
            "\n",
            "    accuracy                           0.79      4013\n",
            "   macro avg       0.79      0.79      0.79      4013\n",
            "weighted avg       0.79      0.79      0.79      4013\n",
            "\n",
            "\n"
          ]
        }
      ],
      "source": [
        "CorrectG, WrongG = confusion_matrix(y_test, y_predict)[0]\n",
        "WrongH, CorrectH = confusion_matrix(y_test, y_predict)[1]\n",
        "print(\"Confusion Matrix:\\n\")\n",
        "print(f'CorrectG: {CorrectG}\\t\\tWrongG: {WrongG}\\nCorrectH: {CorrectH}\\t\\tWrongH: {WrongH}\\n')\n",
        "print(f\"Accuracy: {accuracy_score(y_test, y_predict) * 100}\\n\")\n",
        "print('Report:')\n",
        "print(f\"{classification_report(y_test, y_predict)}\\n\", )"
      ]
    },
    {
      "cell_type": "code",
      "source": [
        "DecisionModel = DecisionTreeClassifier(criterion='entropy')\n",
        "model=DecisionModel.fit(X_train, y_train)\n",
        "y_predict = model.predict(X_test)\n",
        "model.score(X_test, y_test) "
      ],
      "metadata": {
        "colab": {
          "base_uri": "https://localhost:8080/"
        },
        "id": "HOUh4xQHwuHO",
        "outputId": "52eb5989-f4f5-457e-d2a6-ebd27cfd94ac"
      },
      "execution_count": null,
      "outputs": [
        {
          "output_type": "execute_result",
          "data": {
            "text/plain": [
              "0.7936705706454025"
            ]
          },
          "metadata": {},
          "execution_count": 121
        }
      ]
    },
    {
      "cell_type": "code",
      "execution_count": null,
      "metadata": {
        "colab": {
          "base_uri": "https://localhost:8080/"
        },
        "outputId": "0d626cea-ea96-4c1f-b21d-8e68d1056d3d",
        "id": "cuy8onkMw1sX"
      },
      "outputs": [
        {
          "output_type": "stream",
          "name": "stdout",
          "text": [
            "Confusion Matrix:\n",
            "\n",
            "CorrectG: 1592\t\tWrongG: 414\n",
            "CorrectH: 1593\t\tWrongH: 414\n",
            "\n",
            "Accuracy: 79.36705706454025\n",
            "\n",
            "Report:\n",
            "              precision    recall  f1-score   support\n",
            "\n",
            "           g       0.79      0.79      0.79      2006\n",
            "           h       0.79      0.79      0.79      2007\n",
            "\n",
            "    accuracy                           0.79      4013\n",
            "   macro avg       0.79      0.79      0.79      4013\n",
            "weighted avg       0.79      0.79      0.79      4013\n",
            "\n",
            "\n"
          ]
        }
      ],
      "source": [
        "CorrectG, WrongG = confusion_matrix(y_test, y_predict)[0]\n",
        "WrongH, CorrectH = confusion_matrix(y_test, y_predict)[1]\n",
        "print(\"Confusion Matrix:\\n\")\n",
        "print(f'CorrectG: {CorrectG}\\t\\tWrongG: {WrongG}\\nCorrectH: {CorrectH}\\t\\tWrongH: {WrongH}\\n')\n",
        "print(f\"Accuracy: {accuracy_score(y_test, y_predict) * 100}\\n\")\n",
        "print('Report:')\n",
        "print(f\"{classification_report(y_test, y_predict)}\\n\", )"
      ]
    },
    {
      "cell_type": "markdown",
      "metadata": {
        "id": "yvvoFSmPSaFe"
      },
      "source": [
        "# **Naïve Bayes**"
      ]
    },
    {
      "cell_type": "code",
      "execution_count": null,
      "metadata": {
        "id": "YzgLscx6SiZN"
      },
      "outputs": [],
      "source": [
        "Naive_model = GaussianNB()"
      ]
    },
    {
      "cell_type": "code",
      "execution_count": null,
      "metadata": {
        "colab": {
          "base_uri": "https://localhost:8080/"
        },
        "id": "e5rv4GqjTEtG",
        "outputId": "c4537c8a-4b51-4efe-be9d-eabd10972ad3"
      },
      "outputs": [
        {
          "output_type": "execute_result",
          "data": {
            "text/plain": [
              "0.6508846249688512"
            ]
          },
          "metadata": {},
          "execution_count": 124
        }
      ],
      "source": [
        "Naive_model.fit(X_train, y_train)\n",
        "y_predict4 = Naive_model.predict(X_test)\n",
        "Naive_model.score(X_test, y_test)"
      ]
    },
    {
      "cell_type": "code",
      "execution_count": null,
      "metadata": {
        "colab": {
          "base_uri": "https://localhost:8080/"
        },
        "id": "dSI3x3-STmbY",
        "outputId": "44dcc1ef-84a0-4785-9d41-fb135852548f"
      },
      "outputs": [
        {
          "output_type": "stream",
          "name": "stdout",
          "text": [
            "Confusion Matrix:\n",
            "\n",
            "CorrectG: 1815\t\tWrongG: 191\n",
            "CorrectH: 797\t\tWrongH: 1210\n",
            "\n",
            "Accuracy: 65.08846249688513\n",
            "\n",
            "Report:\n",
            "              precision    recall  f1-score   support\n",
            "\n",
            "           g       0.60      0.90      0.72      2006\n",
            "           h       0.81      0.40      0.53      2007\n",
            "\n",
            "    accuracy                           0.65      4013\n",
            "   macro avg       0.70      0.65      0.63      4013\n",
            "weighted avg       0.70      0.65      0.63      4013\n",
            "\n",
            "\n"
          ]
        }
      ],
      "source": [
        "CorrectG, WrongG = confusion_matrix(y_test, y_predict4)[0]\n",
        "WrongH, CorrectH = confusion_matrix(y_test, y_predict4)[1]\n",
        "print(\"Confusion Matrix:\\n\")\n",
        "print(f'CorrectG: {CorrectG}\\t\\tWrongG: {WrongG}\\nCorrectH: {CorrectH}\\t\\tWrongH: {WrongH}\\n')\n",
        "print(f\"Accuracy: {accuracy_score(y_test, y_predict4) * 100}\\n\")\n",
        "print('Report:')\n",
        "print(f\"{classification_report(y_test, y_predict4)}\\n\", )"
      ]
    },
    {
      "cell_type": "markdown",
      "metadata": {
        "id": "8kXDOT2xKn89"
      },
      "source": [
        "# **AdaBoost**\n",
        "Model Training"
      ]
    },
    {
      "cell_type": "code",
      "execution_count": null,
      "metadata": {
        "id": "ebbKY9ma_GnH"
      },
      "outputs": [],
      "source": [
        "# hyperParam = [1, 1, 0]\n",
        "# acc_data = []\n",
        "# for n in range(1,200):  # Tested in range(1, 200) \n",
        "#         clf = AdaBoostClassifier(n_estimators= n, learning_rate=1)\n",
        "#         acc_list_temp = crossValidate(X_train, y_train, clf)\n",
        "#         acc_data.append(acc_list_temp[1])\n",
        "#         if acc_list_temp[1] > hyperParam[2]:\n",
        "#             hyperParam = [n, acc_list_temp[0], acc_list_temp[1]]\n",
        "# pyplot.plot(range(5, 205, 5), acc_data)\n",
        "# pyplot.title('Ada Boost with N Estimators')\n",
        "# pyplot.xlabel(\"K\")\n",
        "# pyplot.ylabel(\"Accuracy\")\n",
        "# pyplot.show()\n",
        "# print(f'Best k = {hyperParam[0]} with best accuracy = {hyperParam[2]}')"
      ]
    },
    {
      "cell_type": "code",
      "execution_count": null,
      "metadata": {
        "colab": {
          "base_uri": "https://localhost:8080/",
          "height": 300
        },
        "id": "t8ntxMTVJ5YU",
        "outputId": "ce72c60b-46c7-419f-f087-f932a734ebfe"
      },
      "outputs": [
        {
          "output_type": "display_data",
          "data": {
            "text/plain": [
              "<Figure size 432x288 with 1 Axes>"
            ],
            "image/png": "[encoded data removed]"
          },
          "metadata": {
            "needs_background": "light"
          }
        }
      ],
      "source": [
        "n_scores = []\n",
        "skf = StratifiedKFold(n_splits=7)\n",
        "n_range = range(50, 70) #50\n",
        "for n in range(50,70):\n",
        " clf = AdaBoostClassifier(n_estimators=n)\n",
        " scores = cross_val_score(clf, X_train, y_train, cv=skf, scoring='accuracy')\n",
        " n_scores.append(scores.mean())\n",
        "\n",
        "pyplot.title(\"Ada Boost N\", fontsize='16')  \n",
        "pyplot.plot(n_range, n_scores)  \n",
        "pyplot.xlabel(\"Values\")  \n",
        "pyplot.ylabel(\"Accuracy\") \n",
        "pyplot.grid()\n",
        "pyplot.show()\n"
      ]
    },
    {
      "cell_type": "code",
      "execution_count": null,
      "metadata": {
        "colab": {
          "base_uri": "https://localhost:8080/"
        },
        "id": "8wxWYv4sLoUv",
        "outputId": "8cf8fc3b-8fca-4380-90df-8851638b3a5f"
      },
      "outputs": [
        {
          "output_type": "execute_result",
          "data": {
            "text/plain": [
              "0.8243209568901072"
            ]
          },
          "metadata": {},
          "execution_count": 142
        }
      ],
      "source": [
        "AdaModel =AdaBoostClassifier(n_estimators = 60)\n",
        "model = AdaModel.fit(X_train, y_train)\n",
        "y_predict2 = model.predict(X_test)\n",
        "model.score(X_test, y_test) "
      ]
    },
    {
      "cell_type": "code",
      "execution_count": null,
      "metadata": {
        "colab": {
          "base_uri": "https://localhost:8080/"
        },
        "id": "2h1u-0pMQ6UL",
        "outputId": "1564c7b6-9e39-439a-89eb-0eea05f9babf"
      },
      "outputs": [
        {
          "output_type": "stream",
          "name": "stdout",
          "text": [
            "Confusion Matrix:\n",
            "\n",
            "CorrectG: 1619\t\tWrongG: 387\n",
            "CorrectH: 1638\t\tWrongH: 369\n",
            "\n",
            "Accuracy: 81.16122601544978\n",
            "\n",
            "Report:\n",
            "              precision    recall  f1-score   support\n",
            "\n",
            "           g       0.81      0.81      0.81      2006\n",
            "           h       0.81      0.82      0.81      2007\n",
            "\n",
            "    accuracy                           0.81      4013\n",
            "   macro avg       0.81      0.81      0.81      4013\n",
            "weighted avg       0.81      0.81      0.81      4013\n",
            "\n",
            "\n"
          ]
        }
      ],
      "source": [
        "CorrectG, WrongG = confusion_matrix(y_test, y_predict2)[0]\n",
        "WrongH, CorrectH = confusion_matrix(y_test, y_predict2)[1]\n",
        "print(\"Confusion Matrix:\\n\")\n",
        "print(f'CorrectG: {CorrectG}\\t\\tWrongG: {WrongG}\\nCorrectH: {CorrectH}\\t\\tWrongH: {WrongH}\\n')\n",
        "print(f\"Accuracy: {accuracy_score(y_test, y_predict2) * 100}\\n\")\n",
        "print('Report:')\n",
        "print(f\"{classification_report(y_test, y_predict2)}\\n\", )"
      ]
    },
    {
      "cell_type": "markdown",
      "metadata": {
        "id": "JfQlW2mCOF7j"
      },
      "source": [
        "# **Random Forest**"
      ]
    },
    {
      "cell_type": "code",
      "execution_count": null,
      "metadata": {
        "id": "bY66B6xk-zcF"
      },
      "outputs": [],
      "source": [
        "# hyperParam = [1, 1, 0]\n",
        "# acc_data = []\n",
        "# for n in range(1,200):  # Tested in range(1, 200)  and 75 was highest accuracy\n",
        "#         clf = ensemble.RandomForestClassifier(n_estimators= n)\n",
        "#         acc_list_temp = crossValidate(X_train, y_train, clf)\n",
        "#         acc_data.append(acc_list_temp[1])\n",
        "#         if acc_list_temp[1] > hyperParam[2]:\n",
        "#             hyperParam = [n, acc_list_temp[0], acc_list_temp[1]]\n",
        "# pyplot.plot(range(5, 205, 5), acc_data)\n",
        "# pyplot.title('Random Forest with N Estimators')\n",
        "# pyplot.xlabel(\"K\")\n",
        "# pyplot.ylabel(\"Accuracy\")\n",
        "# pyplot.show()\n",
        "# print(f'Best k = {hyperParam[0]} with best accuracy = {hyperParam[2]}')"
      ]
    },
    {
      "cell_type": "code",
      "execution_count": null,
      "metadata": {
        "colab": {
          "base_uri": "https://localhost:8080/",
          "height": 297
        },
        "outputId": "0c32e9a9-2e24-4637-edeb-efb6f5554169",
        "id": "S9oSxt1hkSrW"
      },
      "outputs": [
        {
          "output_type": "display_data",
          "data": {
            "text/plain": [
              "<Figure size 432x288 with 1 Axes>"
            ],
            "image/png": "[encoded data removed]"
          },
          "metadata": {
            "needs_background": "light"
          }
        }
      ],
      "source": [
        "n_scores = []\n",
        "skf = StratifiedKFold(n_splits=7)\n",
        "n_range = range(80, 100)  #64 to 128\n",
        "for n in range(80,100):\n",
        " clf = ensemble.RandomForestClassifier(n_estimators=n)\n",
        " scores = cross_val_score(clf, X_train, y_train, cv=skf, scoring='accuracy')\n",
        " n_scores.append(scores.mean())\n",
        "\n",
        "pyplot.title(\"Random Forest N\", fontsize='16') \n",
        "pyplot.plot(n_range, n_scores) \n",
        "pyplot.xlabel(\"Values\")\n",
        "pyplot.ylabel(\"Accuracy\")\n",
        "pyplot.grid() \n",
        "pyplot.show()\n"
      ]
    },
    {
      "cell_type": "code",
      "execution_count": null,
      "metadata": {
        "colab": {
          "base_uri": "https://localhost:8080/"
        },
        "id": "mD6v_ziIQAoT",
        "outputId": "c1e7138a-33ff-4748-f39b-86ddbdea979c"
      },
      "outputs": [
        {
          "output_type": "execute_result",
          "data": {
            "text/plain": [
              "0.8679292300024919"
            ]
          },
          "metadata": {},
          "execution_count": 133
        }
      ],
      "source": [
        "Forest_model = ensemble.RandomForestClassifier(n_estimators= 86)\n",
        "Forest_model.fit(X_train , y_train)\n",
        "y_predict3 = Forest_model.predict(X_test)\n",
        "Forest_model.score(X_test, y_test)"
      ]
    },
    {
      "cell_type": "code",
      "execution_count": null,
      "metadata": {
        "colab": {
          "base_uri": "https://localhost:8080/"
        },
        "id": "VE_2a78VRijL",
        "outputId": "7a3d7016-e610-4ac8-c983-236d0d634936"
      },
      "outputs": [
        {
          "output_type": "stream",
          "name": "stdout",
          "text": [
            "Confusion Matrix:\n",
            "\n",
            "CorrectG: 1795\t\tWrongG: 211\n",
            "CorrectH: 1688\t\tWrongH: 319\n",
            "\n",
            "Accuracy: 86.79292300024919\n",
            "\n",
            "Report:\n",
            "              precision    recall  f1-score   support\n",
            "\n",
            "           g       0.85      0.89      0.87      2006\n",
            "           h       0.89      0.84      0.86      2007\n",
            "\n",
            "    accuracy                           0.87      4013\n",
            "   macro avg       0.87      0.87      0.87      4013\n",
            "weighted avg       0.87      0.87      0.87      4013\n",
            "\n",
            "\n"
          ]
        }
      ],
      "source": [
        "CorrectG, WrongG = confusion_matrix(y_test, y_predict3)[0]\n",
        "WrongH, CorrectH = confusion_matrix(y_test, y_predict3)[1]\n",
        "print(\"Confusion Matrix:\\n\")\n",
        "print(f'CorrectG: {CorrectG}\\t\\tWrongG: {WrongG}\\nCorrectH: {CorrectH}\\t\\tWrongH: {WrongH}\\n')\n",
        "print(f\"Accuracy: {accuracy_score(y_test, y_predict3) * 100}\\n\")\n",
        "print('Report:')\n",
        "print(f\"{classification_report(y_test, y_predict3)}\\n\", )"
      ]
    },
    {
      "cell_type": "markdown",
      "metadata": {
        "id": "etzKgPgcUH5p"
      },
      "source": [
        "# **K-Nearest Neigbhors**"
      ]
    },
    {
      "cell_type": "code",
      "execution_count": null,
      "metadata": {
        "id": "3len7Mla1TWE"
      },
      "outputs": [],
      "source": [
        "# hyperParam = [1, 1, 0]\n",
        "# acc_data = []\n",
        "# for k in range(1,200):  # Tested in range(1, 200)  and 7 was highest accuracy\n",
        "#         clf = KNeighborsClassifier(n_neighbors=k)\n",
        "#         acc_list_temp = crossValidate(X_train, y_train, clf)\n",
        "#         acc_data.append(acc_list_temp[1])\n",
        "#         if acc_list_temp[1] > hyperParam[2]:\n",
        "#             hyperParam = [k, acc_list_temp[0], acc_list_temp[1]]\n",
        "# pyplot.plot(range(5, 205, 5), acc_data)\n",
        "# pyplot.title('KNN with K Tuned')\n",
        "# pyplot.xlabel(\"K\")\n",
        "# pyplot.ylabel(\"Accuracy\")\n",
        "# pyplot.show()\n",
        "# print(f'Best k = {hyperParam[0]} with best accuracy = {hyperParam[2]}')"
      ]
    },
    {
      "cell_type": "code",
      "execution_count": null,
      "metadata": {
        "colab": {
          "base_uri": "https://localhost:8080/",
          "height": 297
        },
        "id": "ZIrRa0xBlkqX",
        "outputId": "4c4f26af-da09-4df7-fe09-7b41a6e68e31"
      },
      "outputs": [
        {
          "output_type": "display_data",
          "data": {
            "text/plain": [
              "<Figure size 432x288 with 1 Axes>"
            ],
            "image/png": "[encoded data removed]"
          },
          "metadata": {
            "needs_background": "light"
          }
        }
      ],
      "source": [
        "n_scores = []\n",
        "skf = StratifiedKFold(n_splits=7)\n",
        "n_range = range(1, 25)\n",
        "for n in range(1,25):\n",
        " clf = KNeighborsClassifier(n_neighbors=n)\n",
        " scores = cross_val_score(clf, X_train, y_train, cv=skf, scoring='accuracy')\n",
        " n_scores.append(scores.mean())\n",
        "\n",
        "pyplot.title(\"KNN K\", fontsize='16') \n",
        "pyplot.plot(n_range, n_scores)\n",
        "pyplot.xlabel(\"Values\") \n",
        "pyplot.ylabel(\"Accuracy\")\n",
        "pyplot.grid()\n",
        "pyplot.show()\n"
      ]
    },
    {
      "cell_type": "code",
      "execution_count": null,
      "metadata": {
        "colab": {
          "base_uri": "https://localhost:8080/"
        },
        "id": "JuRyZ502UHbz",
        "outputId": "a08a557b-f485-444c-8c96-416d777d3019"
      },
      "outputs": [
        {
          "output_type": "execute_result",
          "data": {
            "text/plain": [
              "0.7727385995514577"
            ]
          },
          "metadata": {},
          "execution_count": 136
        }
      ],
      "source": [
        "K_model = KNeighborsClassifier(n_neighbors=15)\n",
        "K_model.fit(X_train,y_train)\n",
        "y_predict5 = K_model.predict(X_test)\n",
        "K_model.score(X_test, y_test)\n"
      ]
    },
    {
      "cell_type": "code",
      "execution_count": null,
      "metadata": {
        "colab": {
          "base_uri": "https://localhost:8080/"
        },
        "id": "dJTQEKaTV_D9",
        "outputId": "bedf822f-0965-4ca0-e65c-203ea36cb800"
      },
      "outputs": [
        {
          "output_type": "stream",
          "name": "stdout",
          "text": [
            "Confusion Matrix:\n",
            "\n",
            "CorrectG: 1731\t\tWrongG: 275\n",
            "CorrectH: 1370\t\tWrongH: 637\n",
            "\n",
            "Accuracy: 77.27385995514578\n",
            "\n",
            "Report:\n",
            "              precision    recall  f1-score   support\n",
            "\n",
            "           g       0.73      0.86      0.79      2006\n",
            "           h       0.83      0.68      0.75      2007\n",
            "\n",
            "    accuracy                           0.77      4013\n",
            "   macro avg       0.78      0.77      0.77      4013\n",
            "weighted avg       0.78      0.77      0.77      4013\n",
            "\n",
            "\n"
          ]
        }
      ],
      "source": [
        "CorrectG, WrongG = confusion_matrix(y_test, y_predict5)[0]\n",
        "WrongH, CorrectH = confusion_matrix(y_test, y_predict5)[1]\n",
        "print(\"Confusion Matrix:\\n\")\n",
        "print(f'CorrectG: {CorrectG}\\t\\tWrongG: {WrongG}\\nCorrectH: {CorrectH}\\t\\tWrongH: {WrongH}\\n')\n",
        "print(f\"Accuracy: {accuracy_score(y_test, y_predict5) * 100}\\n\")\n",
        "print('Report:')\n",
        "print(f\"{classification_report(y_test, y_predict5)}\\n\", )"
      ]
    },
    {
      "cell_type": "markdown",
      "source": [
        "# **Neural Network**"
      ],
      "metadata": {
        "id": "NY-7xzKcp5yI"
      }
    },
    {
      "cell_type": "code",
      "source": [
        "X_train.shape"
      ],
      "metadata": {
        "colab": {
          "base_uri": "https://localhost:8080/"
        },
        "id": "VzjHKvNErMLe",
        "outputId": "e58a3a71-fc0e-4760-ede7-f5feadb26563"
      },
      "execution_count": null,
      "outputs": [
        {
          "output_type": "execute_result",
          "data": {
            "text/plain": [
              "(9363, 10)"
            ]
          },
          "metadata": {},
          "execution_count": 143
        }
      ]
    },
    {
      "cell_type": "code",
      "source": [
        "label_encoder = LabelEncoder()\n",
        "Ytrain_encoded = label_encoder.fit_transform(y_train)\n",
        "Ytest_encoded = label_encoder.fit_transform(y_test)"
      ],
      "metadata": {
        "colab": {
          "base_uri": "https://localhost:8080/"
        },
        "id": "HjWdbimqrRzv",
        "outputId": "54e09027-3acf-494d-ce1b-4774594f1083"
      },
      "execution_count": null,
      "outputs": [
        {
          "output_type": "stream",
          "name": "stderr",
          "text": [
            "/usr/local/lib/python3.7/dist-packages/sklearn/preprocessing/_label.py:115: DataConversionWarning: A column-vector y was passed when a 1d array was expected. Please change the shape of y to (n_samples, ), for example using ravel().\n",
            "  y = column_or_1d(y, warn=True)\n"
          ]
        }
      ]
    },
    {
      "cell_type": "code",
      "source": [
        "model = Sequential()\n",
        "model.add(Dense(500, activation='relu', input_dim=10))\n",
        "model.add(Dense(50, activation='relu'))\n",
        "model.add(Dense(1, activation='sigmoid'))\n",
        "model.compile(optimizer='adam', loss='binary_crossentropy', metrics=['accuracy'])\n",
        "model.fit(X_train, Y_encoded,epochs=5, batch_size=5, verbose=1)\n",
        "# _ , accuracy = model.evaluate(X_train, y_train, verbose=0)\n",
        "\n",
        "# print('Accuracy: %.2f' % (accuracy*100))\n",
        "y_predict6 = model.predict(X_test)\n",
        "# score = model.evaluate(X_test, y_test,verbose=1)\n",
        "# print(score)\n",
        "\n",
        "\n"
      ],
      "metadata": {
        "colab": {
          "base_uri": "https://localhost:8080/"
        },
        "id": "t_ppKCx-awVX",
        "outputId": "011bbf99-3a37-40ba-fcc9-2a243eb08aa4"
      },
      "execution_count": null,
      "outputs": [
        {
          "output_type": "stream",
          "name": "stdout",
          "text": [
            "Epoch 1/5\n",
            "1873/1873 [==============================] - 4s 2ms/step - loss: 0.6040 - accuracy: 0.7158\n",
            "Epoch 2/5\n",
            "1873/1873 [==============================] - 4s 2ms/step - loss: 0.4966 - accuracy: 0.7529\n",
            "Epoch 3/5\n",
            "1873/1873 [==============================] - 4s 2ms/step - loss: 0.4754 - accuracy: 0.7680\n",
            "Epoch 4/5\n",
            "1873/1873 [==============================] - 4s 2ms/step - loss: 0.4623 - accuracy: 0.7764\n",
            "Epoch 5/5\n",
            "1873/1873 [==============================] - 4s 2ms/step - loss: 0.4541 - accuracy: 0.7788\n"
          ]
        }
      ]
    },
    {
      "cell_type": "code",
      "source": [
        "Ypredict=[]\n",
        "for y in y_predict6:\n",
        "  if y<0.5:\n",
        "    y=0\n",
        "  else:\n",
        "    y=1\n",
        "  Ypredict.append(y)  \n",
        "CorrectG, WrongG = confusion_matrix(Ytest_encoded, Ypredict)[0]\n",
        "WrongH, CorrectH = confusion_matrix(Ytest_encoded, Ypredict)[1]\n",
        "print(\"Confusion Matrix:\\n\")\n",
        "print(f'CorrectG: {CorrectG}\\t\\tWrongG: {WrongG}\\nCorrectH: {CorrectH}\\t\\tWrongH: {WrongH}\\n')\n",
        "print(f\"Accuracy: {accuracy_score(Ytest_encoded, Ypredict) * 100}\\n\")\n",
        "print('Report:')\n",
        "print(f\"{classification_report(Ytest_encoded, Ypredict)}\\n\", )"
      ],
      "metadata": {
        "colab": {
          "base_uri": "https://localhost:8080/"
        },
        "id": "SyENaxlTc45o",
        "outputId": "4b91f07e-5cc7-4846-81a7-401f357f3693"
      },
      "execution_count": null,
      "outputs": [
        {
          "output_type": "stream",
          "name": "stdout",
          "text": [
            "Confusion Matrix:\n",
            "\n",
            "CorrectG: 1973\t\tWrongG: 33\n",
            "CorrectH: 934\t\tWrongH: 1073\n",
            "\n",
            "Accuracy: 72.43957139297284\n",
            "\n",
            "Report:\n",
            "              precision    recall  f1-score   support\n",
            "\n",
            "           0       0.65      0.98      0.78      2006\n",
            "           1       0.97      0.47      0.63      2007\n",
            "\n",
            "    accuracy                           0.72      4013\n",
            "   macro avg       0.81      0.72      0.70      4013\n",
            "weighted avg       0.81      0.72      0.70      4013\n",
            "\n",
            "\n"
          ]
        }
      ]
    }
  ],
  "metadata": {
    "colab": {
      "collapsed_sections": [],
      "name": "MLClassifcation.ipynb",
      "provenance": [],
      "include_colab_link": true
    },
    "kernelspec": {
      "display_name": "Python 3",
      "name": "python3"
    },
    "language_info": {
      "name": "python"
    }
  },
  "nbformat": 4,
  "nbformat_minor": 0
}